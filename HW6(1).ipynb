{
 "cells": [
  {
   "cell_type": "markdown",
   "metadata": {},
   "source": [
    "\n",
    "## Homework 6 - LearNNing Deeply\n",
    "### Your Name: Alyssa Kern\n",
    "\n",
    "**COLLABORATED WITH:_ _ _ _ _ _ _ _ _ _ _ _ _ _ _ _ _ _ _ _**\n",
    "\n",
    "***\n",
    "***\n",
    "***\n",
    "\n",
    "**Submit a PDF export of your notebook (100% PENALTY IF NO PDF IS SUBMITTED)** \n",
    "\n",
    "* File > Export Notebook to HTML (you cannot upload .html to Compass), open .html in browser, print to PDF\n",
    "    - **_Ensure your code is not cut off_**\n",
    "\n",
    "***\n",
    "***\n",
    "***"
   ]
  },
  {
   "cell_type": "markdown",
   "metadata": {},
   "source": [
    "#### Table of Contents\n",
    "\n",
    "- [Theory](#Theory)\n",
    "    - [[9 Points] Gradient Descent](#[9-Points]-Gradient-Descent)\n",
    "    - [Acitvation Functions](#Acitvation-Functions)\n",
    "        - [[5 Points] Part 1](#[5-Points]-Part-1)\n",
    "        - [[3 Points] Part 2](#[3-Points]-Part-2)\n",
    "        - [[3 Points] Part 3](#[3-Points]-Part-3)\n",
    "- [Neural Network Anatomy](#Neural-Network-Anatomy)\n",
    "    - [[2 Points] Create ReLU](#[2-Points]-Create-ReLU)\n",
    "    - [[8 Points] Create Base Objects](#[8-Points]-Create-Base-Objects)\n",
    "    - [[6 Points] Evaluate Hidden Layer $z$s](#[6-Points]-Evaluate-Hidden-Layer-$z$s)\n",
    "    - [[4 Points] Evaluate Output Layer $z$s](#[4-Points]-Evaluate-Output-Layer-$z$s)\n",
    "    - [[4 Points] Print $\\hat{y}_1$](#[4-Points]-Print-$\\hat{y}_1$)\n",
    "    - [[4 Points] Print $\\frac{\\partial C_1}{\\partial w_{1,3}^2}$](#[4-Points]-Print-$\\frac{\\partial-C_1}{\\partial-w_{1,3}^2}$)\n",
    "    - [[4 Points] Print $\\frac{\\partial C_1}{\\partial b_2^1}$](#[4-Points]-Print-$\\frac{\\partial-C_1}{\\partial-b_2^1}$)\n",
    "    - [[8 Points] The First Batch](#[8-Points]-The-First-Batch)\n",
    "- [Application](#Application)\n",
    "    - [Model 1](#Model-1)\n",
    "        - [[6 Points] Initialization](#[6-Points]-Initialization)\n",
    "        - [[3 Points] Compilation](#[3-Points]-Compilation)\n",
    "        - [[9 Points] Fitting](#[9-Points]-Fitting)\n",
    "        - [[2 Points] Evaluation](#[2-Points]-Evaluation)\n",
    "    - [Model 2](#Model-2)\n",
    "        - [[6 Points] Initialization](#[6-Points]-Initialization)\n",
    "        - [[3 Points] Compilation](#[3-Points]-Compilation)\n",
    "        - [[9 Points] Fitting](#[9-Points]-Fitting)\n",
    "        - [[2 Points] Evaluation](#[2-Points]-Evaluation)"
   ]
  },
  {
   "cell_type": "code",
   "execution_count": 1,
   "metadata": {},
   "outputs": [
    {
     "data": {
      "text/plain": [
       "(20, 40, 20, 20)"
      ]
     },
     "execution_count": 1,
     "metadata": {},
     "output_type": "execute_result"
    }
   ],
   "source": [
    "a = 9 + 5 + 3 + 3\n",
    "b = 2+8+6+4+4+4+4+8\n",
    "c = 6+3+9+2\n",
    "d = c\n",
    "a, b, c, d"
   ]
  },
  {
   "cell_type": "markdown",
   "metadata": {},
   "source": [
    "*********\n",
    "\n",
    "# Theory\n",
    "[TOP](#Homework-6---LearNNing-Deeply)\n",
    "\n",
    "## [9 Points] Gradient Descent \n",
    "[TOP](#Homework-6---LearNNing-Deeply)\n",
    "\n",
    "Compare and contrast the three different gradient descent algorithms we have covered with respect to:\n",
    "\n",
    "1. Whether or not they converge\n",
    "2. Their relative speed\n",
    "3. Whether they can escape non-global minima\n",
    "\n",
    "**Points**: 3 algorithms × 3 characteristics = 9 points."
   ]
  },
  {
   "cell_type": "raw",
   "metadata": {},
   "source": [
    "**Answer**:\n",
    "\n",
    "The three gradient descent algorithms we have covered so far are:\n",
    "\n",
    "* Batch\n",
    "    - will converge as iteration goes to infinity\n",
    "    - very slow\n",
    "    - can get stuck at non-global minima\n",
    "\n",
    "* Stochastic \n",
    "    - will never converge\n",
    "    - fastest\n",
    "    - can 'jump' out of local minima\n",
    "\n",
    "* Mini-batch \n",
    "    - will never converge, but better than stochastic\n",
    "    - fast\n",
    "    - can escape local minima\n"
   ]
  },
  {
   "cell_type": "markdown",
   "metadata": {},
   "source": [
    "************\n",
    "## Acitvation Functions\n",
    "[TOP](#Homework-6---LearNNing-Deeply)\n",
    "\n",
    "*************\n",
    "### [5 Points] Part 1\n",
    "\n",
    "What is the relationship between the output layer activation function and $\\hat{y}$?"
   ]
  },
  {
   "cell_type": "markdown",
   "metadata": {},
   "source": [
    "**Answer:**\n",
    "\n",
    "**The parameters in a neural network are essentially input weights/biases that are fed through a series of activation functions. They first go through hidden layers until they finally go through the output layer, which will give us the value of $\\hat{y}$.**"
   ]
  },
  {
   "cell_type": "markdown",
   "metadata": {},
   "source": [
    "***********\n",
    "### [3 Points] Part 2\n",
    "\n",
    "Which activation function discussed in lecture can lead to dead neurons?"
   ]
  },
  {
   "cell_type": "markdown",
   "metadata": {},
   "source": [
    "**Answer:**\n",
    "\n",
    "**The ReLU activation function can lead to dead neurons. This happens when the derivative is zero for all negative numbers.**\n"
   ]
  },
  {
   "cell_type": "markdown",
   "metadata": {},
   "source": [
    "*************\n",
    "### [3 Points] Part 3\n",
    "\n",
    "Name an activation function based off of your answer above that was discussed in class that solves the dead neuron problem."
   ]
  },
  {
   "cell_type": "markdown",
   "metadata": {},
   "source": [
    "**Answer:**\n",
    "\n",
    "**An activation function that can solve the dead neuron problem is 'leaky ReLU'. The leaky ReLU modifies the function so that small negative values are allowed when the input is less than zero.**"
   ]
  },
  {
   "cell_type": "markdown",
   "metadata": {},
   "source": [
    "*************\n",
    "# Neural Network Anatomy\n",
    "[TOP](#Homework-6---LearNNing-Deeply)\n",
    "\n",
    "\n",
    "**Directions:** The output should be from code chunks.\n",
    "You will likely find it helpful to first solve by hand before coding the solutions. \n",
    "*I genuinely always do this for more involved coding problems*.\n",
    "\n",
    "We are going to work with this neural network:\n",
    "\n",
    "![](hw_nn.png)\n",
    "\n",
    "Here is our made-up data:\n",
    "\n",
    "\n",
    "| Profit   | Step 1: Collect Pants | Step 2: ? |\n",
    "|----------|-----------|----------------|\n",
    "| -10      | 20        | -40            |\n",
    "| 1        | 5         | 42             |\n",
    "| $y_3$    | $x_{1,3}$ | $x_{2,3}$      |\n",
    "| $\\vdots$ | $\\vdots$  | $\\vdots$       |\n",
    "\n",
    "\n",
    "Here are some weights:\n",
    "\n",
    "| Layer  | Neuron | Input 1 Weight    | Input 2 Weight    | Input 3 Weight    | Bias        |\n",
    "|--------|--------|-------------------|-------------------|-------------------|-------------|\n",
    "| Hidden | Top    | $w^1_{1,1} = 0.3$ | $w^1_{1,2} = 0.4$ | *NA*              | $b^1_1 = 1$ |\n",
    "| Hidden | Middle | $w^1_{2,1} = 0.1$ | $w^1_{2,2} = 0.6$ | *NA*              | $b^1_2 = 1$ |\n",
    "| Hidden | Bottom | $w^1_{3,1} = 0.7$ | $w^1_{3,2} = 0.1$ | *NA*              | $b^1_3 = 1$ |\n",
    "| Output | Yup.   | $w^2_{1,1} = 0.9$ | $w^2_{1,2} = 0.7$ | $w^2_{1,3} = 0.5$ | $b^2_1 = 1$ |\n",
    "\n",
    "\n",
    "To make things a bit easier for you, use ReLU for the **hidden layer** activation function:\n",
    "\n",
    "$$\\text{ReLU}(z) = \\begin{cases}\n",
    "0 & \\text{if } z \\leq 0\\\\\n",
    "z & \\text{if } z > 0\n",
    "\\end{cases}$$\n",
    "\n",
    "\n",
    "Use the swanky `None` function for the **output layer** activation function:\n",
    "\n",
    "$$\\text{none}(z) = z$$\n",
    "\n",
    "\n",
    "Use the MSE for the cost function:\n",
    "\n",
    "$$ C_k = (\\hat{y}_k - y_k)^2$$\n",
    "\n",
    "And let\n",
    "\n",
    "$$\\eta = 0.05$$\n",
    "\n",
    "***********************\n",
    "\n",
    "**OBJECTIVE:** Determine how much we will adjust $w^2_{1,3}$ and $b^1_2$ using a batch of two observations.\n",
    "You will need to calculate the first iteration's $\\frac{\\partial C_1}{\\partial w^2_{1,3}}$ and $\\frac{\\partial C_1}{\\partial b^1_2}$.\n",
    "I will give you the second iteration's $\\frac{\\partial C_2}{\\partial w^2_{1,3}}$ and $\\frac{\\partial C_2}{\\partial b^1_2}$.\n",
    "\n",
    "***********\n",
    "\n",
    "## [2 Points] Create ReLU\n",
    "[TOP](#Homework-6---LearNNing-Deeply)\n",
    "\n",
    "Create a function `r()` for ReLU and `r_prime` for its derivative.\n",
    "\n",
    "*Note: you do not need any packages to do this sections.*"
   ]
  },
  {
   "cell_type": "code",
   "execution_count": 2,
   "metadata": {},
   "outputs": [],
   "source": [
    "#def r(z):\n",
    " #   if z <= 0:\n",
    "  #      return(0)\n",
    "   # if z > 0:\n",
    "    #    return(z)\n",
    "#def r_prime(z):\n",
    " #   if z <= 0:\n",
    "  #      return(0)\n",
    "   # if z > 0:\n",
    "    #    return(0)"
   ]
  },
  {
   "cell_type": "markdown",
   "metadata": {},
   "source": [
    "This was a simple mistake on my part for not being careful with the definition and interpretation of the relu function. I misinterpreted the task and assumed that if z was greater than 0 and was a constant, that the derivative would be 0. However, the relu function is a piecewise linear function. The derivative of relu is simply the slope where the input is positive. Since relu is linear, the slope is constant and equal to 1. This is why for r_prime(z) should return 1 instead of 0 if z is greater than 0."
   ]
  },
  {
   "cell_type": "code",
   "execution_count": 3,
   "metadata": {},
   "outputs": [],
   "source": [
    "def r(z):\n",
    "    if z <= 0:\n",
    "        return(0)\n",
    "    if z > 0:\n",
    "        return(z)\n",
    "def r_prime(z):\n",
    "    if z <= 0:\n",
    "        return(0)\n",
    "    if z > 0:\n",
    "        return(1)"
   ]
  },
  {
   "cell_type": "markdown",
   "metadata": {},
   "source": [
    "*************\n",
    "## [8 Points] Create Base Objects\n",
    "[TOP](#Homework-6---LearNNing-Deeply)\n",
    "\n",
    "\n",
    "Create unique objects in `python` for the $y_1$, $x_{1,1}$, $x_2,1$, the respective weights and biases, and $\\eta$."
   ]
  },
  {
   "cell_type": "code",
   "execution_count": 4,
   "metadata": {},
   "outputs": [],
   "source": [
    "y1 = -10\n",
    "x111 = 20\n",
    "x112 = -40\n",
    "w111 = 0.3\n",
    "w112 = 0.4\n",
    "w121 = 0.1\n",
    "w122 = 0.6\n",
    "w131 = 0.7\n",
    "w132 = 0.1\n",
    "w211 = 0.9\n",
    "w212 = 0.7\n",
    "w213 = 0.5\n",
    "bias = 1\n",
    "learn_rate = 0.05"
   ]
  },
  {
   "cell_type": "markdown",
   "metadata": {},
   "source": [
    "******\n",
    "## [6 Points] Evaluate Hidden Layer $z$s\n",
    "[TOP](#Homework-6---LearNNing-Deeply)\n",
    "\n",
    "Create unique objects for the hidden layer's $z$ values."
   ]
  },
  {
   "cell_type": "code",
   "execution_count": 5,
   "metadata": {},
   "outputs": [],
   "source": [
    "z11 = w111 * x111 + w112 * x112 + bias\n",
    "z12 = w121 * x111 + w122 * x112 + bias\n",
    "z13 = w131 * x111 + w132 * x112 + bias"
   ]
  },
  {
   "cell_type": "markdown",
   "metadata": {},
   "source": [
    "*********\n",
    "## [4 Points] Evaluate Output Layer $z$s\n",
    "[TOP](#Homework-6---LearNNing-Deeply)\n",
    "\n",
    "Using the defined values of $z$ above, calculate $z_1^2$ using your definied function(s)."
   ]
  },
  {
   "cell_type": "code",
   "execution_count": 6,
   "metadata": {},
   "outputs": [],
   "source": [
    "#z21 = w211 * r(z11) + w212 * r(z12) + bias"
   ]
  },
  {
   "cell_type": "markdown",
   "metadata": {},
   "source": [
    "I simply forgot to add the third component of the ouput layer, 'w213 * r(z13)'. The output layer's inputs are made up from the layers before it, as shown in the hidden layer z's section above. "
   ]
  },
  {
   "cell_type": "code",
   "execution_count": 7,
   "metadata": {},
   "outputs": [],
   "source": [
    "z21 = w211 * r(z11) + w212 * r(z12) + w213 * r(z13) + bias"
   ]
  },
  {
   "cell_type": "markdown",
   "metadata": {},
   "source": [
    "************\n",
    "## [4 Points] Print $\\hat{y}_1$\n",
    "[TOP](#Homework-6---LearNNing-Deeply)\n",
    "\n",
    "\n",
    "Calculate and print $\\hat{y}_1$."
   ]
  },
  {
   "cell_type": "code",
   "execution_count": 8,
   "metadata": {},
   "outputs": [
    {
     "name": "stdout",
     "output_type": "stream",
     "text": [
      "6.5\n"
     ]
    }
   ],
   "source": [
    "y1hat = r(z21)\n",
    "print(y1hat)"
   ]
  },
  {
   "cell_type": "markdown",
   "metadata": {},
   "source": [
    "***********\n",
    "## [4 Points] Print $\\frac{\\partial C_1}{\\partial w_{1,3}^2}$\n",
    "[TOP](#Homework-6---LearNNing-Deeply)\n",
    "\n",
    "\n",
    "Using the chain rule, evaluate and print $\\frac{\\partial C_1}{\\partial w_{1,3}^2}$\n",
    "\n",
    "**2 POINTS EXTRA CREDIT** \n",
    "\n",
    "- Line 1 -  Use LaTeX to write out the chain rule as we did in class (the partial derivatives).\n",
    "- Line 2 - Plug in the to the derivatives the gerenerlized evaluation (no values, i.e. use $w^2_{1,3}$) of those partial derivatives."
   ]
  },
  {
   "cell_type": "code",
   "execution_count": 9,
   "metadata": {},
   "outputs": [],
   "source": [
    "#dc_dw = 2 * (r(z21) - y1) * r(z21) * (1 - r(z21))\n",
    "#print(dc_dw)"
   ]
  },
  {
   "cell_type": "markdown",
   "metadata": {},
   "source": [
    "The equation for Ck was given to us previously in the homework and C1 is equal to (y1hat - y1) ^ 2. Using the chain rule, we bring down the 2 and multiply it by (y1hat - y1) ^ 1. Then we must multiply that by the derivative of (y1hat - y1), which is 1 * r(z13). I mistakenly used r(z21) instead of y1hat and used r(z21) instead of r(z13). "
   ]
  },
  {
   "cell_type": "code",
   "execution_count": 10,
   "metadata": {},
   "outputs": [
    {
     "data": {
      "text/plain": [
       "363.0"
      ]
     },
     "execution_count": 10,
     "metadata": {},
     "output_type": "execute_result"
    }
   ],
   "source": [
    "dc_dw = ( 2 * (y1hat - y1)) * 1 * r(z13)\n",
    "dc_dw"
   ]
  },
  {
   "cell_type": "code",
   "execution_count": 11,
   "metadata": {},
   "outputs": [],
   "source": [
    "# EXTRA CREDIT"
   ]
  },
  {
   "cell_type": "markdown",
   "metadata": {},
   "source": [
    "$$ \\frac{\\partial C_1}{\\partial w_{1,3}^2} $$\n",
    "$$ = \\frac{\\partial C_1}{\\partial X} * \\frac{\\partial z_{1}^2}{\\partial z_{1}^2}*\\frac{\\partial z_{1}^2(w_{1,3}^2)}{\\partial w_{1,3}^2} $$\n",
    "$$  = [2(\\hat{y}_1-y_1)] * 1 * ReLU(z_{3}^1) $$"
   ]
  },
  {
   "cell_type": "markdown",
   "metadata": {},
   "source": [
    "*********\n",
    "##  [4 Points] Print $\\frac{\\partial C_1}{\\partial b_2^1}$\n",
    "[TOP](#Homework-6---LearNNing-Deeply)\n",
    "\n",
    "\n",
    "Using the chain rule, evaluate and print $\\frac{\\partial C_1}{\\partial b_2^1}$.\n",
    "\n",
    "**2 POINTS EXTRA CREDIT** \n",
    "\n",
    "- Line 1 -  Use LaTeX to write out the chain rule as we did in class (the partial derivatives).\n",
    "- Line 2 - Plug in the to the derivatives the gerenerlized evaluation (no values, i.e. use $w^2_{1,3}$) of those partial derivatives."
   ]
  },
  {
   "cell_type": "code",
   "execution_count": 12,
   "metadata": {},
   "outputs": [],
   "source": [
    "#dc_db = 2 * (r(z21) - y1) * r(z21) * (1 - r(z21)) * w212 * r(z12) * (1 - r(z12))\n",
    "#print(dc_db)"
   ]
  },
  {
   "cell_type": "markdown",
   "metadata": {},
   "source": [
    "Again, following the chain rule we bring down the 2 and multiply that by (y1hat - y1) ^ 1. Then we multiply that by the derivative of the inside which is 1 * w212 * r_prime(z12) , not r(z21) * (1 - r(z21)) * w212 * r(z12) * (1 - r(z12)) like I put. I also made the same mistake of using r(z21) as y1hat again in this problem."
   ]
  },
  {
   "cell_type": "code",
   "execution_count": 13,
   "metadata": {},
   "outputs": [],
   "source": [
    "dc_db = ( 2 *(y1hat - y1)) * 1 * w212 * r_prime(z12)"
   ]
  },
  {
   "cell_type": "code",
   "execution_count": 14,
   "metadata": {},
   "outputs": [],
   "source": [
    "# EXTRA CREDIT"
   ]
  },
  {
   "cell_type": "markdown",
   "metadata": {},
   "source": [
    "$$ \\frac{\\partial C_1}{\\partial b_{2}^1} $$\n",
    "$$ = \\frac{\\partial C_1}{\\partial none} * \\frac{\\partial none(z_{1}^2)}{\\partial z_{1}^2} * \\frac{\\partial z_{1}^2(ReLU_{2}^1)}{\\partial ReLU_{2}^1} * \\frac{\\partial ReLU_{2}^1}{\\partial z_{2}^1} *\n",
    "\\frac{\\partial z_{2}^1}{\\partial b_{2}^1} $$\n",
    "$$ = [2(\\hat{y}_1-y_1)] * 1 * w_{1,2}^2 * ReLU_{2}^1\\prime{z_{2}^1)} * 1 $$"
   ]
  },
  {
   "cell_type": "markdown",
   "metadata": {},
   "source": [
    "***********\n",
    "## [8 Points] The First Batch\n",
    "[TOP](#Homework-6---LearNNing-Deeply)\n",
    "\n",
    "\n",
    "If your code is correct, you can verify $\\frac{\\partial C_2}{\\partial w^2_{1,3}} = 703.134$ exactly and \n",
    "$\\frac{\\partial C_2}{\\partial b^1_2} = 56.574$ exactly.\n",
    "\n",
    "To wrap up this problem, by how much do we adjust $w^2_{1,3}$ and $b^1_2$ by respectively after our first tiny batch (not their new values)?"
   ]
  },
  {
   "cell_type": "code",
   "execution_count": 15,
   "metadata": {},
   "outputs": [],
   "source": [
    "# verify !!!"
   ]
  },
  {
   "cell_type": "markdown",
   "metadata": {},
   "source": [
    "I was initially unsure of how to verify that the derivative of C2 in respect to w213 was equal to 703.134 and the derivative of C2 in respect to b12 was 56.574. To do this, I had to multiply the negative learn rate (-0.05) by the value I got for dc_dw + the given value for it divided by 2. I did the same process again with dc_db. This confirms that our code is correct and verifies these values."
   ]
  },
  {
   "cell_type": "code",
   "execution_count": 16,
   "metadata": {},
   "outputs": [
    {
     "data": {
      "text/plain": [
       "-1.41435"
      ]
     },
     "execution_count": 16,
     "metadata": {},
     "output_type": "execute_result"
    }
   ],
   "source": [
    "# w^2_{1,3} changes by:\n",
    "-learn_rate * (dc_dw + 703.134)/2\n",
    "\n",
    "# b^2_1 changes by:\n",
    "-learn_rate * (dc_db + 56.574)/2"
   ]
  },
  {
   "cell_type": "markdown",
   "metadata": {},
   "source": [
    "***************\n",
    "# Application\n",
    "[TOP](#Homework-6---LearNNing-Deeply)\n",
    "\n",
    "**10% EXTRA CREDIT OPPORTUNITY**\n",
    "\n",
    "In the application section, you will fit two models to predict `l_incwage`:\n",
    "\n",
    "1. A single layer neural network\n",
    "2. Any neural network of your choosing using the Keras package\n",
    "\n",
    "The 10% extra credit on this assignment is awarded to the student with the chosen model that has the lowest testing RMSE.\n",
    "There is a new folder `AAA HW6 Competition` in the Box folder where you uploaded your final project data, in which you will submit your evaluation RMSE as a box note.\n",
    "I have provided an example (the RMSE of the first model) in the folder: copy and paste the entire RMSE into the title on the Box note followed by your name.\n",
    "\n",
    "**CONDITIONS FOR WINNING**\n",
    "\n",
    "1. The student with the best RMSE must provide a separate Jupyter Notebook to me containing the winning model after the competition closes. This notebook will be shared with the entire class (anonymously, if you prefer). The competition closes immediately after the HW due date.\n",
    "2. I must be able to `Restart Kernel and Run All Cells...` to produce the winning evaluation RMSE.\n",
    "3. You must use the setup (`train_test_split()`, etc.) provided to you below.\n",
    "4. You are limited to using Keras package exclusively for the neural network itself. However, you can use any architecture, number of layers, optimizer, learning rate, loss, etc. in your final model.\n",
    "5. You need not use all of the features from the HW data, but you may neither add additional features to the data nor transform any of the variables.\n",
    "6. You may have multiple submissions. If you submit more than one, you must delete your original submission and then add a new one to produce an updated time stamp to your submission.\n",
    "7. You must submit the RMSE in the created Box folder following the format I have provided.\n",
    "8. In the extremely unlikely event, I reserve the right to void any submission.\n",
    "\n",
    "Additional comments:\n",
    "\n",
    "- If there is a tie, the winner is chosen by the earliest submission. Submissions are time stamped.\n",
    "- You do not need to compete, however, you still need to fit a second model that does not match the first for this HW.\n",
    "- If you have any clarifying questions, please email me\n",
    "\n",
    "\n",
    "\n",
    "****************\n",
    "You will need our `stdz()` function."
   ]
  },
  {
   "cell_type": "code",
   "execution_count": 17,
   "metadata": {},
   "outputs": [],
   "source": [
    "%run metrics.py"
   ]
  },
  {
   "cell_type": "markdown",
   "metadata": {},
   "source": [
    "Here are the packages we need:"
   ]
  },
  {
   "cell_type": "code",
   "execution_count": 31,
   "metadata": {},
   "outputs": [],
   "source": [
    "# utilities\n",
    "import pandas as pd\n",
    "\n",
    "# processing\n",
    "from sklearn.model_selection import train_test_split\n",
    "\n",
    "# algorithms\n",
    "from tensorflow import keras\n",
    "\n",
    "# plotting\n",
    "import matplotlib.pyplot as plt\n",
    "from tensorflow.keras.layers import LeakyReLU"
   ]
  },
  {
   "cell_type": "markdown",
   "metadata": {},
   "source": [
    "Setting the seed."
   ]
  },
  {
   "cell_type": "code",
   "execution_count": 19,
   "metadata": {},
   "outputs": [],
   "source": [
    "import numpy as np\n",
    "import os\n",
    "import random\n",
    "import tensorflow as tf\n",
    "\n",
    "np.random.seed(490)\n",
    "os.environ['PYTHONHASHSEED'] = '0'\n",
    "random.seed(490)\n",
    "tf.random.set_seed(490)"
   ]
  },
  {
   "cell_type": "markdown",
   "metadata": {},
   "source": [
    "Setting up our data"
   ]
  },
  {
   "cell_type": "code",
   "execution_count": 20,
   "metadata": {},
   "outputs": [],
   "source": [
    "df = pd.read_csv('hw_data.csv')\n",
    "df.set_index(['county', 'ind1990', 'occ2010'], inplace = True)\n",
    "\n",
    "# Pandas is doing the weird \"I don't want to join() properly\"\n",
    "# so I am going to force it with pd.concat()\n",
    "df = pd.concat([\n",
    "    df.drop(columns = 'degree'),\n",
    "    pd.get_dummies(df['degree'], drop_first = True)\n",
    "], axis = 1)\n",
    "\n",
    "y = df['l_incwage']\n",
    "x = df.drop(columns = 'l_incwage')\n",
    "\n",
    "x_train, x_test, y_train, y_test = train_test_split(x, y, \n",
    "                                                   train_size = 2/3,\n",
    "                                                   random_state = 490)\n",
    "\n",
    "x_train = x_train.apply(stdz, axis = 0)\n",
    "x_test  = x_test.apply(stdz, axis = 0)"
   ]
  },
  {
   "cell_type": "markdown",
   "metadata": {},
   "source": [
    "*****************\n",
    "## Model 1\n",
    "[TOP](#Homework-6---LearNNing-Deeply)\n",
    "\n",
    "Remember that this model should only have one hidden layer.\n",
    "\n",
    "*********\n",
    "### [6 Points] Initialization\n",
    "[TOP](#Homework-6---LearNNing-Deeply)\n",
    "\n",
    "\n",
    "**[4 Points]** Define a \n",
    "\n",
    "1. Sequential model\n",
    "2. with an appropriate input shape\n",
    "3. with one hidden layer that has a size of 100 and a ReLU activation function\n",
    "4. with an output layer that has a shape of 1 and a linear activation function"
   ]
  },
  {
   "cell_type": "code",
   "execution_count": 21,
   "metadata": {},
   "outputs": [],
   "source": [
    "model = keras.models.Sequential()\n",
    "model.add(keras.layers.Input(shape = x_train.shape[1]))\n",
    "model.add(keras.layers.Dense(100, activation = 'relu'))\n",
    "model.add(keras.layers.Dense(1, activation = 'linear' ))"
   ]
  },
  {
   "cell_type": "markdown",
   "metadata": {},
   "source": [
    "**[2 Points]** Print the model summary"
   ]
  },
  {
   "cell_type": "code",
   "execution_count": 22,
   "metadata": {},
   "outputs": [
    {
     "name": "stdout",
     "output_type": "stream",
     "text": [
      "Model: \"sequential\"\n",
      "_________________________________________________________________\n",
      "Layer (type)                 Output Shape              Param #   \n",
      "=================================================================\n",
      "dense (Dense)                (None, 100)               1500      \n",
      "_________________________________________________________________\n",
      "dense_1 (Dense)              (None, 1)                 101       \n",
      "=================================================================\n",
      "Total params: 1,601\n",
      "Trainable params: 1,601\n",
      "Non-trainable params: 0\n",
      "_________________________________________________________________\n"
     ]
    }
   ],
   "source": [
    "model.summary()"
   ]
  },
  {
   "cell_type": "markdown",
   "metadata": {},
   "source": [
    "*************\n",
    "### [3 Points] Compilation\n",
    "[TOP](#Homework-6---LearNNing-Deeply)\n",
    "\n",
    "Compile the model with \n",
    "\n",
    "1. a loss of `'mean_squared_error'`\n",
    "2. a metric of `tf.keras.metrics.RootMeanSquaredError()`\n",
    "3. an `'adam'` optimizer"
   ]
  },
  {
   "cell_type": "code",
   "execution_count": 23,
   "metadata": {},
   "outputs": [],
   "source": [
    "model.compile(loss = 'mean_squared_error',\n",
    "             metrics = tf.keras.metrics.RootMeanSquaredError(),\n",
    "             optimizer = 'adam')"
   ]
  },
  {
   "cell_type": "markdown",
   "metadata": {},
   "source": [
    "*********\n",
    "### [9 Points] Fitting\n",
    "[TOP](#Homework-6---LearNNing-Deeply)\n",
    "\n",
    "1. Set up early stopping with a patience of 4"
   ]
  },
  {
   "cell_type": "code",
   "execution_count": 24,
   "metadata": {},
   "outputs": [],
   "source": [
    "es = keras.callbacks.EarlyStopping(patience = 4)"
   ]
  },
  {
   "cell_type": "markdown",
   "metadata": {},
   "source": [
    "Fit the model with\n",
    "\n",
    "2. a batch size of 128\n",
    "3. 20 epochs\n",
    "4. a validation split of 1/5\n",
    "5. input the early stopping"
   ]
  },
  {
   "cell_type": "code",
   "execution_count": 25,
   "metadata": {},
   "outputs": [
    {
     "name": "stdout",
     "output_type": "stream",
     "text": [
      "Epoch 1/20\n",
      "3275/3275 [==============================] - 4s 1ms/step - loss: 13.2143 - root_mean_squared_error: 3.2100 - val_loss: 0.5843 - val_root_mean_squared_error: 0.7644\n",
      "Epoch 2/20\n",
      "3275/3275 [==============================] - 3s 921us/step - loss: 0.5690 - root_mean_squared_error: 0.7543 - val_loss: 0.5649 - val_root_mean_squared_error: 0.7516\n",
      "Epoch 3/20\n",
      "3275/3275 [==============================] - 3s 883us/step - loss: 0.5552 - root_mean_squared_error: 0.7451 - val_loss: 0.5577 - val_root_mean_squared_error: 0.7468\n",
      "Epoch 4/20\n",
      "3275/3275 [==============================] - 3s 906us/step - loss: 0.5493 - root_mean_squared_error: 0.7411 - val_loss: 0.5525 - val_root_mean_squared_error: 0.7433\n",
      "Epoch 5/20\n",
      "3275/3275 [==============================] - 3s 891us/step - loss: 0.5510 - root_mean_squared_error: 0.7423 - val_loss: 0.5521 - val_root_mean_squared_error: 0.7430\n",
      "Epoch 6/20\n",
      "3275/3275 [==============================] - 3s 866us/step - loss: 0.5462 - root_mean_squared_error: 0.7391 - val_loss: 0.5541 - val_root_mean_squared_error: 0.7443\n",
      "Epoch 7/20\n",
      "3275/3275 [==============================] - 3s 850us/step - loss: 0.5453 - root_mean_squared_error: 0.7385 - val_loss: 0.5516 - val_root_mean_squared_error: 0.7427\n",
      "Epoch 8/20\n",
      "3275/3275 [==============================] - 3s 923us/step - loss: 0.5434 - root_mean_squared_error: 0.7372 - val_loss: 0.5491 - val_root_mean_squared_error: 0.7410\n",
      "Epoch 9/20\n",
      "3275/3275 [==============================] - 3s 922us/step - loss: 0.5441 - root_mean_squared_error: 0.7376 - val_loss: 0.5536 - val_root_mean_squared_error: 0.7440ot_mean_squared\n",
      "Epoch 10/20\n",
      "3275/3275 [==============================] - 3s 867us/step - loss: 0.5430 - root_mean_squared_error: 0.7369 - val_loss: 0.5501 - val_root_mean_squared_error: 0.7417\n",
      "Epoch 11/20\n",
      "3275/3275 [==============================] - 3s 909us/step - loss: 0.5414 - root_mean_squared_error: 0.7358 - val_loss: 0.5471 - val_root_mean_squared_error: 0.7397\n",
      "Epoch 12/20\n",
      "3275/3275 [==============================] - 3s 1ms/step - loss: 0.5410 - root_mean_squared_error: 0.7355 - val_loss: 0.5511 - val_root_mean_squared_error: 0.7424 1s - loss: 0.5380 - root_mean_squared_e - ETA: 1s - loss: 0.5397 - root_mea\n",
      "Epoch 13/20\n",
      "3275/3275 [==============================] - 3s 941us/step - loss: 0.5442 - root_mean_squared_error: 0.7377 - val_loss: 0.5480 - val_root_mean_squared_error: 0.7403\n",
      "Epoch 14/20\n",
      "3275/3275 [==============================] - 3s 913us/step - loss: 0.5429 - root_mean_squared_error: 0.7368 - val_loss: 0.5489 - val_root_mean_squared_error: 0.7408_mean_squ\n",
      "Epoch 15/20\n",
      "3275/3275 [==============================] - 3s 841us/step - loss: 0.5433 - root_mean_squared_error: 0.7371 - val_loss: 0.5502 - val_root_mean_squared_error: 0.7418\n"
     ]
    }
   ],
   "source": [
    "history = model.fit(x_train, y_train,\n",
    "                   batch_size = 128,\n",
    "                   epochs = 20,\n",
    "                   validation_split = 1/5,\n",
    "                   callbacks = [es])"
   ]
  },
  {
   "cell_type": "markdown",
   "metadata": {},
   "source": [
    "Produce a plot of the history.\n",
    "\n",
    "6. plot only the training RSMSE \n",
    "7. and validation RMSE\n",
    "8. adjust the ylimits\n",
    "9. Add a grid"
   ]
  },
  {
   "cell_type": "code",
   "execution_count": 26,
   "metadata": {},
   "outputs": [
    {
     "data": {
      "text/html": [
       "<div>\n",
       "<style scoped>\n",
       "    .dataframe tbody tr th:only-of-type {\n",
       "        vertical-align: middle;\n",
       "    }\n",
       "\n",
       "    .dataframe tbody tr th {\n",
       "        vertical-align: top;\n",
       "    }\n",
       "\n",
       "    .dataframe thead th {\n",
       "        text-align: right;\n",
       "    }\n",
       "</style>\n",
       "<table border=\"1\" class=\"dataframe\">\n",
       "  <thead>\n",
       "    <tr style=\"text-align: right;\">\n",
       "      <th></th>\n",
       "      <th>loss</th>\n",
       "      <th>root_mean_squared_error</th>\n",
       "      <th>val_loss</th>\n",
       "      <th>val_root_mean_squared_error</th>\n",
       "    </tr>\n",
       "  </thead>\n",
       "  <tbody>\n",
       "    <tr>\n",
       "      <th>0</th>\n",
       "      <td>3.593672</td>\n",
       "      <td>1.895698</td>\n",
       "      <td>0.584270</td>\n",
       "      <td>0.764375</td>\n",
       "    </tr>\n",
       "    <tr>\n",
       "      <th>1</th>\n",
       "      <td>0.566362</td>\n",
       "      <td>0.752570</td>\n",
       "      <td>0.564869</td>\n",
       "      <td>0.751578</td>\n",
       "    </tr>\n",
       "    <tr>\n",
       "      <th>2</th>\n",
       "      <td>0.555093</td>\n",
       "      <td>0.745046</td>\n",
       "      <td>0.557659</td>\n",
       "      <td>0.746766</td>\n",
       "    </tr>\n",
       "    <tr>\n",
       "      <th>3</th>\n",
       "      <td>0.550452</td>\n",
       "      <td>0.741925</td>\n",
       "      <td>0.552526</td>\n",
       "      <td>0.743321</td>\n",
       "    </tr>\n",
       "    <tr>\n",
       "      <th>4</th>\n",
       "      <td>0.548124</td>\n",
       "      <td>0.740354</td>\n",
       "      <td>0.552108</td>\n",
       "      <td>0.743040</td>\n",
       "    </tr>\n",
       "  </tbody>\n",
       "</table>\n",
       "</div>"
      ],
      "text/plain": [
       "       loss  root_mean_squared_error  val_loss  val_root_mean_squared_error\n",
       "0  3.593672                 1.895698  0.584270                     0.764375\n",
       "1  0.566362                 0.752570  0.564869                     0.751578\n",
       "2  0.555093                 0.745046  0.557659                     0.746766\n",
       "3  0.550452                 0.741925  0.552526                     0.743321\n",
       "4  0.548124                 0.740354  0.552108                     0.743040"
      ]
     },
     "execution_count": 26,
     "metadata": {},
     "output_type": "execute_result"
    }
   ],
   "source": [
    "history.history\n",
    "train_results = pd.DataFrame(history.history)\n",
    "train_results.head()"
   ]
  },
  {
   "cell_type": "code",
   "execution_count": 27,
   "metadata": {},
   "outputs": [],
   "source": [
    " #train_results.plot()\n",
    "\n",
    "\n",
    "#plt.ylim(0, 1)\n",
    "#plt.grid(True)\n",
    "\n",
    "#plt.show()"
   ]
  },
  {
   "cell_type": "markdown",
   "metadata": {},
   "source": [
    "The plot I initially provided did not plot only the training RMSE or validation RMSE. I accidently put the train_results = pd.DataFrame(history.history) portion in the previous section, which was not useful. I also neglected to explicitly state that the train_results plot needed to show the root mean squared error and the val root mean squared error.  "
   ]
  },
  {
   "cell_type": "code",
   "execution_count": 28,
   "metadata": {},
   "outputs": [
    {
     "data": {
      "text/plain": [
       "<function matplotlib.pyplot.show(close=None, block=None)>"
      ]
     },
     "execution_count": 28,
     "metadata": {},
     "output_type": "execute_result"
    },
    {
     "data": {
      "image/png": "[encoded data removed]",
      "text/plain": [
       "<Figure size 432x288 with 1 Axes>"
      ]
     },
     "metadata": {
      "needs_background": "light"
     },
     "output_type": "display_data"
    }
   ],
   "source": [
    "train_results = pd.DataFrame(history.history)\n",
    "\n",
    "train_results[['root_mean_squared_error',\n",
    "               'val_root_mean_squared_error']].plot()\n",
    "\n",
    "plt.ylim(0.7, 0.8)\n",
    "plt.grid(True)\n",
    "\n",
    "plt.show"
   ]
  },
  {
   "cell_type": "markdown",
   "metadata": {},
   "source": [
    "***********\n",
    "### [2 Points] Evaluation\n",
    "[TOP](#Homework-6---LearNNing-Deeply)\n",
    "\n",
    "1. Evaluate the model\n",
    "2. Only print the RMSE"
   ]
  },
  {
   "cell_type": "code",
   "execution_count": 29,
   "metadata": {},
   "outputs": [
    {
     "name": "stdout",
     "output_type": "stream",
     "text": [
      "8187/8187 [==============================] - 4s 505us/step - loss: 0.5516 - root_mean_squared_error: 0.7427\n"
     ]
    },
    {
     "data": {
      "text/plain": [
       "0.7427072525024414"
      ]
     },
     "execution_count": 29,
     "metadata": {},
     "output_type": "execute_result"
    }
   ],
   "source": [
    "model_perf = model.evaluate(x_test, y_test)\n",
    "acc_nn = model_perf[1]\n",
    "acc_nn"
   ]
  },
  {
   "cell_type": "markdown",
   "metadata": {},
   "source": [
    "******************\n",
    "## Model 2\n",
    "[TOP](#Homework-6---LearNNing-Deeply)\n",
    "\n",
    "\n",
    "Your second chosen model may not match the model above. \n",
    "Have fun!\n",
    "\n",
    "*********\n",
    "### [6 Points] Initialization\n",
    "[TOP](#Homework-6---LearNNing-Deeply)\n",
    "\n",
    "Define your chosen model."
   ]
  },
  {
   "cell_type": "code",
   "execution_count": 33,
   "metadata": {},
   "outputs": [],
   "source": [
    "model2 = keras.models.Sequential()\n",
    "model2.add(keras.layers.Input(shape = x_train.shape[1]))\n",
    "model2.add(keras.layers.Dense(300, activation = 'relu'))\n",
    "model2.add(keras.layers.Dense(200, activation = LeakyReLU(alpha = 0.1)))\n",
    "\n",
    "\n",
    "\n",
    "#model = keras.models.Sequential()\n",
    "#model.add(keras.layers.Input(shape = x_train.shape[1]))\n",
    "#model.add(keras.layers.Dense(100, activation = 'relu'))\n",
    "#model.add(keras.layers.Dense(1, activation = 'linear' ))"
   ]
  },
  {
   "cell_type": "markdown",
   "metadata": {},
   "source": [
    "*************\n",
    "### [3 Points] Compilation\n",
    "[TOP](#Homework-6---LearNNing-Deeply)\n",
    "\n",
    "Compile your model with your chosen\n",
    "\n",
    "1. loss\n",
    "3. optimizer\n",
    "\n",
    "You must use at least the RMSE metric:\n",
    "\n",
    "3. a metric of `tf.keras.metrics.RootMeanSquaredError()`"
   ]
  },
  {
   "cell_type": "code",
   "execution_count": 34,
   "metadata": {},
   "outputs": [],
   "source": [
    "model2.compile(loss = 'mean_absolute_percentage_error',\n",
    "             metrics = tf.keras.metrics.RootMeanSquaredError(),\n",
    "             optimizer = 'adam')"
   ]
  },
  {
   "cell_type": "markdown",
   "metadata": {},
   "source": [
    "*********\n",
    "### [9 Points] Fitting\n",
    "[TOP](#Homework-6---LearNNing-Deeply)\n",
    "\n",
    "- **[5 Points]** Fit your chosen model\n",
    "- **[4 Points]** Plot the history"
   ]
  },
  {
   "cell_type": "code",
   "execution_count": 35,
   "metadata": {},
   "outputs": [],
   "source": [
    "#es = keras.callbacks.EarlyStopping(patience = 3)\n",
    "\n",
    "#history.history\n",
    "#train_results_2 = pd.DataFrame(history.history)\n",
    "#train_results_2.head()"
   ]
  },
  {
   "cell_type": "markdown",
   "metadata": {},
   "source": [
    "I think I made a very silly mistake here by not even fitting my model. The code I originally submitted only printed out the head of the model, but did not fit it. I also failed to include the code that was nnecessary to show the history plot."
   ]
  },
  {
   "cell_type": "code",
   "execution_count": 36,
   "metadata": {},
   "outputs": [
    {
     "name": "stdout",
     "output_type": "stream",
     "text": [
      "Epoch 1/30\n",
      "13098/13098 [==============================] - 18s 1ms/step - loss: 8.8433 - root_mean_squared_error: 1.5247 - val_loss: 5.6305 - val_root_mean_squared_error: 0.7700\n",
      "Epoch 2/30\n",
      "13098/13098 [==============================] - 19s 1ms/step - loss: 5.6423 - root_mean_squared_error: 0.7717 - val_loss: 5.5522 - val_root_mean_squared_error: 0.7583\n",
      "Epoch 3/30\n",
      "13098/13098 [==============================] - 19s 1ms/step - loss: 5.5173 - root_mean_squared_error: 0.7585 - val_loss: 5.6229 - val_root_mean_squared_error: 0.7641\n",
      "Epoch 4/30\n",
      "13098/13098 [==============================] - 19s 1ms/step - loss: 5.4711 - root_mean_squared_error: 0.7533 - val_loss: 5.4855 - val_root_mean_squared_error: 0.7544\n",
      "Epoch 5/30\n",
      "13098/13098 [==============================] - 19s 1ms/step - loss: 5.4630 - root_mean_squared_error: 0.7532 - val_loss: 5.4872 - val_root_mean_squared_error: 0.7575: 1s - loss: 5\n",
      "Epoch 6/30\n",
      "13098/13098 [==============================] - 19s 1ms/step - loss: 5.4233 - root_mean_squared_error: 0.7492 - val_loss: 5.4167 - val_root_mean_squared_error: 0.7473\n",
      "Epoch 7/30\n",
      "13098/13098 [==============================] - 20s 2ms/step - loss: 5.4121 - root_mean_squared_error: 0.7475 - val_loss: 5.4696 - val_root_mean_squared_error: 0.7557: 1s - loss: 5.4120 - root_mean_s\n",
      "Epoch 8/30\n",
      "13098/13098 [==============================] - 23s 2ms/step - loss: 5.4060 - root_mean_squared_error: 0.7459 - val_loss: 5.4178 - val_root_mean_squared_error: 0.7497\n",
      "Epoch 9/30\n",
      "13098/13098 [==============================] - 19s 1ms/step - loss: 5.3932 - root_mean_squared_error: 0.7455 - val_loss: 5.4273 - val_root_mean_squared_error: 0.7511\n"
     ]
    }
   ],
   "source": [
    "es = keras.callbacks.EarlyStopping(patience = 3)\n",
    "history2 = model2.fit(x_train, y_train,\n",
    "                     batch_size = 32,\n",
    "                     epochs = 30,\n",
    "                     validation_split = 0.2,\n",
    "                     callbacks = [es])\n",
    "\n",
    "train_results_2 = pd.DataFrame(history.history)"
   ]
  },
  {
   "cell_type": "markdown",
   "metadata": {},
   "source": [
    "***********\n",
    "### [2 Points] Evaluation\n",
    "[TOP](#Homework-6---LearNNing-Deeply)\n",
    "\n",
    "\n",
    "1. Evaluate the model\n",
    "2. Only print the RMSE"
   ]
  },
  {
   "cell_type": "code",
   "execution_count": 37,
   "metadata": {},
   "outputs": [
    {
     "name": "stdout",
     "output_type": "stream",
     "text": [
      "8187/8187 [==============================] - 6s 776us/step - loss: 5.4249 - root_mean_squared_error: 0.7509 0s - loss: 5.4207 - root_mean_squared_e\n"
     ]
    },
    {
     "data": {
      "text/plain": [
       "0.7508773803710938"
      ]
     },
     "execution_count": 37,
     "metadata": {},
     "output_type": "execute_result"
    }
   ],
   "source": [
    "model_perf_2 = model2.evaluate(x_test, y_test)\n",
    "acc_nn_2 = model_perf_2[1]\n",
    "acc_nn_2"
   ]
  }
 ],
 "metadata": {
  "kernelspec": {
   "display_name": "Python 3",
   "language": "python",
   "name": "python3"
  },
  "language_info": {
   "codemirror_mode": {
    "name": "ipython",
    "version": 3
   },
   "file_extension": ".py",
   "mimetype": "text/x-python",
   "name": "python",
   "nbconvert_exporter": "python",
   "pygments_lexer": "ipython3",
   "version": "3.8.5"
  }
 },
 "nbformat": 4,
 "nbformat_minor": 5
}
